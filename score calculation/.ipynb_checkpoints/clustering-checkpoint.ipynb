{
 "cells": [
  {
   "cell_type": "code",
   "execution_count": 2,
   "metadata": {},
   "outputs": [],
   "source": [
    "import numpy as np\n",
    "import pandas as pd\n",
    "from sklearn.cluster import KMeans"
   ]
  },
  {
   "cell_type": "code",
   "execution_count": 4,
   "metadata": {},
   "outputs": [
    {
     "data": {
      "text/html": [
       "<div>\n",
       "<style>\n",
       "    .dataframe thead tr:only-child th {\n",
       "        text-align: right;\n",
       "    }\n",
       "\n",
       "    .dataframe thead th {\n",
       "        text-align: left;\n",
       "    }\n",
       "\n",
       "    .dataframe tbody tr th {\n",
       "        vertical-align: top;\n",
       "    }\n",
       "</style>\n",
       "<table border=\"1\" class=\"dataframe\">\n",
       "  <thead>\n",
       "    <tr style=\"text-align: right;\">\n",
       "      <th></th>\n",
       "      <th>0</th>\n",
       "      <th>1</th>\n",
       "      <th>2</th>\n",
       "      <th>3</th>\n",
       "      <th>4</th>\n",
       "      <th>5</th>\n",
       "      <th>6</th>\n",
       "      <th>7</th>\n",
       "      <th>8</th>\n",
       "      <th>9</th>\n",
       "    </tr>\n",
       "  </thead>\n",
       "  <tbody>\n",
       "    <tr>\n",
       "      <th>0</th>\n",
       "      <td>32</td>\n",
       "      <td>24</td>\n",
       "      <td>62</td>\n",
       "      <td>60</td>\n",
       "      <td>32</td>\n",
       "      <td>47</td>\n",
       "      <td>34</td>\n",
       "      <td>28</td>\n",
       "      <td>44</td>\n",
       "      <td>68</td>\n",
       "    </tr>\n",
       "    <tr>\n",
       "      <th>1</th>\n",
       "      <td>16</td>\n",
       "      <td>52</td>\n",
       "      <td>40</td>\n",
       "      <td>72</td>\n",
       "      <td>37</td>\n",
       "      <td>73</td>\n",
       "      <td>13</td>\n",
       "      <td>39</td>\n",
       "      <td>100</td>\n",
       "      <td>36</td>\n",
       "    </tr>\n",
       "    <tr>\n",
       "      <th>2</th>\n",
       "      <td>6</td>\n",
       "      <td>23</td>\n",
       "      <td>82</td>\n",
       "      <td>44</td>\n",
       "      <td>26</td>\n",
       "      <td>45</td>\n",
       "      <td>41</td>\n",
       "      <td>22</td>\n",
       "      <td>39</td>\n",
       "      <td>78</td>\n",
       "    </tr>\n",
       "    <tr>\n",
       "      <th>3</th>\n",
       "      <td>25</td>\n",
       "      <td>24</td>\n",
       "      <td>100</td>\n",
       "      <td>45</td>\n",
       "      <td>58</td>\n",
       "      <td>40</td>\n",
       "      <td>32</td>\n",
       "      <td>25</td>\n",
       "      <td>67</td>\n",
       "      <td>66</td>\n",
       "    </tr>\n",
       "    <tr>\n",
       "      <th>4</th>\n",
       "      <td>54</td>\n",
       "      <td>89</td>\n",
       "      <td>78</td>\n",
       "      <td>64</td>\n",
       "      <td>45</td>\n",
       "      <td>68</td>\n",
       "      <td>21</td>\n",
       "      <td>33</td>\n",
       "      <td>100</td>\n",
       "      <td>73</td>\n",
       "    </tr>\n",
       "    <tr>\n",
       "      <th>5</th>\n",
       "      <td>29</td>\n",
       "      <td>23</td>\n",
       "      <td>39</td>\n",
       "      <td>87</td>\n",
       "      <td>60</td>\n",
       "      <td>73</td>\n",
       "      <td>6</td>\n",
       "      <td>42</td>\n",
       "      <td>96</td>\n",
       "      <td>65</td>\n",
       "    </tr>\n",
       "    <tr>\n",
       "      <th>6</th>\n",
       "      <td>4</td>\n",
       "      <td>24</td>\n",
       "      <td>35</td>\n",
       "      <td>100</td>\n",
       "      <td>81</td>\n",
       "      <td>100</td>\n",
       "      <td>18</td>\n",
       "      <td>51</td>\n",
       "      <td>82</td>\n",
       "      <td>37</td>\n",
       "    </tr>\n",
       "    <tr>\n",
       "      <th>7</th>\n",
       "      <td>12</td>\n",
       "      <td>27</td>\n",
       "      <td>48</td>\n",
       "      <td>78</td>\n",
       "      <td>70</td>\n",
       "      <td>88</td>\n",
       "      <td>37</td>\n",
       "      <td>41</td>\n",
       "      <td>100</td>\n",
       "      <td>35</td>\n",
       "    </tr>\n",
       "    <tr>\n",
       "      <th>8</th>\n",
       "      <td>11</td>\n",
       "      <td>35</td>\n",
       "      <td>73</td>\n",
       "      <td>50</td>\n",
       "      <td>59</td>\n",
       "      <td>50</td>\n",
       "      <td>34</td>\n",
       "      <td>25</td>\n",
       "      <td>63</td>\n",
       "      <td>77</td>\n",
       "    </tr>\n",
       "    <tr>\n",
       "      <th>9</th>\n",
       "      <td>58</td>\n",
       "      <td>26</td>\n",
       "      <td>46</td>\n",
       "      <td>81</td>\n",
       "      <td>57</td>\n",
       "      <td>88</td>\n",
       "      <td>15</td>\n",
       "      <td>28</td>\n",
       "      <td>55</td>\n",
       "      <td>52</td>\n",
       "    </tr>\n",
       "  </tbody>\n",
       "</table>\n",
       "</div>"
      ],
      "text/plain": [
       "    0   1    2    3   4    5   6   7    8   9\n",
       "0  32  24   62   60  32   47  34  28   44  68\n",
       "1  16  52   40   72  37   73  13  39  100  36\n",
       "2   6  23   82   44  26   45  41  22   39  78\n",
       "3  25  24  100   45  58   40  32  25   67  66\n",
       "4  54  89   78   64  45   68  21  33  100  73\n",
       "5  29  23   39   87  60   73   6  42   96  65\n",
       "6   4  24   35  100  81  100  18  51   82  37\n",
       "7  12  27   48   78  70   88  37  41  100  35\n",
       "8  11  35   73   50  59   50  34  25   63  77\n",
       "9  58  26   46   81  57   88  15  28   55  52"
      ]
     },
     "execution_count": 4,
     "metadata": {},
     "output_type": "execute_result"
    }
   ],
   "source": [
    "scores = pd.read_csv('featureScores.csv', header=None)\n",
    "scores"
   ]
  },
  {
   "cell_type": "code",
   "execution_count": 6,
   "metadata": {},
   "outputs": [
    {
     "data": {
      "text/plain": [
       "array([[ 32,  24,  62,  60,  32,  47,  34,  28,  44,  68],\n",
       "       [ 16,  52,  40,  72,  37,  73,  13,  39, 100,  36],\n",
       "       [  6,  23,  82,  44,  26,  45,  41,  22,  39,  78],\n",
       "       [ 25,  24, 100,  45,  58,  40,  32,  25,  67,  66],\n",
       "       [ 54,  89,  78,  64,  45,  68,  21,  33, 100,  73],\n",
       "       [ 29,  23,  39,  87,  60,  73,   6,  42,  96,  65],\n",
       "       [  4,  24,  35, 100,  81, 100,  18,  51,  82,  37],\n",
       "       [ 12,  27,  48,  78,  70,  88,  37,  41, 100,  35],\n",
       "       [ 11,  35,  73,  50,  59,  50,  34,  25,  63,  77],\n",
       "       [ 58,  26,  46,  81,  57,  88,  15,  28,  55,  52]])"
      ]
     },
     "execution_count": 6,
     "metadata": {},
     "output_type": "execute_result"
    }
   ],
   "source": [
    "x = np.array(scores)\n",
    "x"
   ]
  },
  {
   "cell_type": "code",
   "execution_count": 7,
   "metadata": {
    "collapsed": true
   },
   "outputs": [],
   "source": [
    "clf = KMeans(n_clusters=2)"
   ]
  },
  {
   "cell_type": "code",
   "execution_count": 8,
   "metadata": {},
   "outputs": [
    {
     "data": {
      "text/plain": [
       "KMeans(algorithm='auto', copy_x=True, init='k-means++', max_iter=300,\n",
       "    n_clusters=2, n_init=10, n_jobs=1, precompute_distances='auto',\n",
       "    random_state=None, tol=0.0001, verbose=0)"
      ]
     },
     "execution_count": 8,
     "metadata": {},
     "output_type": "execute_result"
    }
   ],
   "source": [
    "clf.fit(x)"
   ]
  },
  {
   "cell_type": "code",
   "execution_count": 9,
   "metadata": {
    "collapsed": true
   },
   "outputs": [],
   "source": [
    "labels = clf.labels_"
   ]
  },
  {
   "cell_type": "code",
   "execution_count": 10,
   "metadata": {},
   "outputs": [
    {
     "data": {
      "text/plain": [
       "array([1, 0, 1, 1, 0, 0, 0, 0, 1, 0], dtype=int32)"
      ]
     },
     "execution_count": 10,
     "metadata": {},
     "output_type": "execute_result"
    }
   ],
   "source": [
    "labels"
   ]
  },
  {
   "cell_type": "code",
   "execution_count": null,
   "metadata": {
    "collapsed": true
   },
   "outputs": [],
   "source": []
  }
 ],
 "metadata": {
  "kernelspec": {
   "display_name": "Python [conda env:anaconda3]",
   "language": "python",
   "name": "conda-env-anaconda3-py"
  },
  "language_info": {
   "codemirror_mode": {
    "name": "ipython",
    "version": 3
   },
   "file_extension": ".py",
   "mimetype": "text/x-python",
   "name": "python",
   "nbconvert_exporter": "python",
   "pygments_lexer": "ipython3",
   "version": "3.6.3"
  }
 },
 "nbformat": 4,
 "nbformat_minor": 2
}

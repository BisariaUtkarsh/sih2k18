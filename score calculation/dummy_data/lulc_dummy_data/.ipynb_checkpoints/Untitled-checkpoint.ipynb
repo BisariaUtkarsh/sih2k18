{
 "cells": [
  {
   "cell_type": "code",
   "execution_count": 1,
   "metadata": {
    "collapsed": true
   },
   "outputs": [],
   "source": [
    "import pandas as pd"
   ]
  },
  {
   "cell_type": "code",
   "execution_count": 5,
   "metadata": {},
   "outputs": [
    {
     "data": {
      "text/html": [
       "<div>\n",
       "<style>\n",
       "    .dataframe thead tr:only-child th {\n",
       "        text-align: right;\n",
       "    }\n",
       "\n",
       "    .dataframe thead th {\n",
       "        text-align: left;\n",
       "    }\n",
       "\n",
       "    .dataframe tbody tr th {\n",
       "        vertical-align: top;\n",
       "    }\n",
       "</style>\n",
       "<table border=\"1\" class=\"dataframe\">\n",
       "  <thead>\n",
       "    <tr style=\"text-align: right;\">\n",
       "      <th></th>\n",
       "      <th>lc_code</th>\n",
       "      <th>dscr1</th>\n",
       "      <th>dscr2</th>\n",
       "      <th>dscr3</th>\n",
       "      <th>Shape_Leng</th>\n",
       "      <th>Shape_Area</th>\n",
       "      <th>PI_Code</th>\n",
       "      <th>stcode</th>\n",
       "    </tr>\n",
       "  </thead>\n",
       "  <tbody>\n",
       "    <tr>\n",
       "      <th>0</th>\n",
       "      <td>WBCN</td>\n",
       "      <td>Water bodies</td>\n",
       "      <td>Canal</td>\n",
       "      <td>Canal</td>\n",
       "      <td>2.584599</td>\n",
       "      <td>0.065533</td>\n",
       "      <td>NaN</td>\n",
       "      <td>28</td>\n",
       "    </tr>\n",
       "    <tr>\n",
       "      <th>1</th>\n",
       "      <td>BURH</td>\n",
       "      <td>Built up</td>\n",
       "      <td>Built up (Rural)</td>\n",
       "      <td>Hamlets and dispersed household</td>\n",
       "      <td>3.180078</td>\n",
       "      <td>0.049774</td>\n",
       "      <td>Ponnavanipeta</td>\n",
       "      <td>28</td>\n",
       "    </tr>\n",
       "    <tr>\n",
       "      <th>2</th>\n",
       "      <td>BURH</td>\n",
       "      <td>Built up</td>\n",
       "      <td>Built up (Rural)</td>\n",
       "      <td>Hamlets and dispersed household</td>\n",
       "      <td>10.400605</td>\n",
       "      <td>0.076483</td>\n",
       "      <td>Pakaivalasa</td>\n",
       "      <td>28</td>\n",
       "    </tr>\n",
       "    <tr>\n",
       "      <th>3</th>\n",
       "      <td>BURV</td>\n",
       "      <td>Built up</td>\n",
       "      <td>Built up (Rural)</td>\n",
       "      <td>Village</td>\n",
       "      <td>3.784063</td>\n",
       "      <td>0.018226</td>\n",
       "      <td>Manchalapeta</td>\n",
       "      <td>28</td>\n",
       "    </tr>\n",
       "    <tr>\n",
       "      <th>4</th>\n",
       "      <td>BURH</td>\n",
       "      <td>Built up</td>\n",
       "      <td>Built up (Rural)</td>\n",
       "      <td>Hamlets and dispersed household</td>\n",
       "      <td>11.975146</td>\n",
       "      <td>0.059786</td>\n",
       "      <td>Pakaivalasa</td>\n",
       "      <td>28</td>\n",
       "    </tr>\n",
       "  </tbody>\n",
       "</table>\n",
       "</div>"
      ],
      "text/plain": [
       "  lc_code         dscr1             dscr2                            dscr3  \\\n",
       "0    WBCN  Water bodies             Canal                            Canal   \n",
       "1    BURH      Built up  Built up (Rural)  Hamlets and dispersed household   \n",
       "2    BURH      Built up  Built up (Rural)  Hamlets and dispersed household   \n",
       "3    BURV      Built up  Built up (Rural)                          Village   \n",
       "4    BURH      Built up  Built up (Rural)  Hamlets and dispersed household   \n",
       "\n",
       "   Shape_Leng  Shape_Area        PI_Code  stcode  \n",
       "0    2.584599    0.065533            NaN      28  \n",
       "1    3.180078    0.049774  Ponnavanipeta      28  \n",
       "2   10.400605    0.076483    Pakaivalasa      28  \n",
       "3    3.784063    0.018226   Manchalapeta      28  \n",
       "4   11.975146    0.059786    Pakaivalasa      28  "
      ]
     },
     "execution_count": 5,
     "metadata": {},
     "output_type": "execute_result"
    }
   ],
   "source": [
    "lulc = pd.read_csv('lulc2.csv')\n",
    "lulc.head()"
   ]
  },
  {
   "cell_type": "code",
   "execution_count": 7,
   "metadata": {},
   "outputs": [
    {
     "data": {
      "text/plain": [
       "1.2117321590369654"
      ]
     },
     "execution_count": 7,
     "metadata": {},
     "output_type": "execute_result"
    }
   ],
   "source": [
    "wasteland = lulc[lulc['dscr1'] == 'Wastelands']\n",
    "wastelandArea = wasteland['Shape_Area'].sum()\n",
    "wastelandArea"
   ]
  },
  {
   "cell_type": "code",
   "execution_count": null,
   "metadata": {
    "collapsed": true
   },
   "outputs": [],
   "source": [
    "panchayat = pd.read_csv('')"
   ]
  }
 ],
 "metadata": {
  "kernelspec": {
   "display_name": "Python [conda env:anaconda3]",
   "language": "python",
   "name": "conda-env-anaconda3-py"
  },
  "language_info": {
   "codemirror_mode": {
    "name": "ipython",
    "version": 3
   },
   "file_extension": ".py",
   "mimetype": "text/x-python",
   "name": "python",
   "nbconvert_exporter": "python",
   "pygments_lexer": "ipython3",
   "version": "3.6.3"
  }
 },
 "nbformat": 4,
 "nbformat_minor": 2
}
